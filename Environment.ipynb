{
 "cells": [
  {
   "attachments": {},
   "cell_type": "markdown",
   "metadata": {},
   "source": [
    "## Importing libraries"
   ]
  },
  {
   "cell_type": "code",
   "execution_count": 1,
   "metadata": {},
   "outputs": [],
   "source": [
    "import numpy as np\n",
    "import pandas as pd\n",
    "import seaborn as sns\n",
    "import matplotlib.pyplot as plt\n",
    "import plotly.express as px"
   ]
  },
  {
   "attachments": {},
   "cell_type": "markdown",
   "metadata": {},
   "source": [
    "## Importing csv files: "
   ]
  },
  {
   "cell_type": "code",
   "execution_count": 2,
   "metadata": {},
   "outputs": [
    {
     "data": {
      "text/html": [
       "<div>\n",
       "<style scoped>\n",
       "    .dataframe tbody tr th:only-of-type {\n",
       "        vertical-align: middle;\n",
       "    }\n",
       "\n",
       "    .dataframe tbody tr th {\n",
       "        vertical-align: top;\n",
       "    }\n",
       "\n",
       "    .dataframe thead th {\n",
       "        text-align: right;\n",
       "    }\n",
       "</style>\n",
       "<table border=\"1\" class=\"dataframe\">\n",
       "  <thead>\n",
       "    <tr style=\"text-align: right;\">\n",
       "      <th></th>\n",
       "      <th>Domain Code</th>\n",
       "      <th>Domain</th>\n",
       "      <th>Area Code</th>\n",
       "      <th>Area</th>\n",
       "      <th>Element Code</th>\n",
       "      <th>Element</th>\n",
       "      <th>Item Code</th>\n",
       "      <th>Item</th>\n",
       "      <th>Year Code</th>\n",
       "      <th>Year</th>\n",
       "      <th>Unit</th>\n",
       "      <th>Value</th>\n",
       "      <th>Flag</th>\n",
       "      <th>Flag Description</th>\n",
       "    </tr>\n",
       "  </thead>\n",
       "  <tbody>\n",
       "    <tr>\n",
       "      <th>0</th>\n",
       "      <td>QCL</td>\n",
       "      <td>Crops and livestock products</td>\n",
       "      <td>100</td>\n",
       "      <td>India</td>\n",
       "      <td>5312</td>\n",
       "      <td>Area harvested</td>\n",
       "      <td>1717</td>\n",
       "      <td>Cereals, Total</td>\n",
       "      <td>1961</td>\n",
       "      <td>1961</td>\n",
       "      <td>ha</td>\n",
       "      <td>92239016</td>\n",
       "      <td>E</td>\n",
       "      <td>Estimated value</td>\n",
       "    </tr>\n",
       "    <tr>\n",
       "      <th>1</th>\n",
       "      <td>QCL</td>\n",
       "      <td>Crops and livestock products</td>\n",
       "      <td>100</td>\n",
       "      <td>India</td>\n",
       "      <td>5419</td>\n",
       "      <td>Yield</td>\n",
       "      <td>1717</td>\n",
       "      <td>Cereals, Total</td>\n",
       "      <td>1961</td>\n",
       "      <td>1961</td>\n",
       "      <td>hg/ha</td>\n",
       "      <td>9473</td>\n",
       "      <td>E</td>\n",
       "      <td>Estimated value</td>\n",
       "    </tr>\n",
       "    <tr>\n",
       "      <th>2</th>\n",
       "      <td>QCL</td>\n",
       "      <td>Crops and livestock products</td>\n",
       "      <td>100</td>\n",
       "      <td>India</td>\n",
       "      <td>5510</td>\n",
       "      <td>Production</td>\n",
       "      <td>1717</td>\n",
       "      <td>Cereals, Total</td>\n",
       "      <td>1961</td>\n",
       "      <td>1961</td>\n",
       "      <td>tonnes</td>\n",
       "      <td>87376496</td>\n",
       "      <td>E</td>\n",
       "      <td>Estimated value</td>\n",
       "    </tr>\n",
       "    <tr>\n",
       "      <th>3</th>\n",
       "      <td>QCL</td>\n",
       "      <td>Crops and livestock products</td>\n",
       "      <td>100</td>\n",
       "      <td>India</td>\n",
       "      <td>5312</td>\n",
       "      <td>Area harvested</td>\n",
       "      <td>1717</td>\n",
       "      <td>Cereals, Total</td>\n",
       "      <td>1962</td>\n",
       "      <td>1962</td>\n",
       "      <td>ha</td>\n",
       "      <td>93852008</td>\n",
       "      <td>E</td>\n",
       "      <td>Estimated value</td>\n",
       "    </tr>\n",
       "    <tr>\n",
       "      <th>4</th>\n",
       "      <td>QCL</td>\n",
       "      <td>Crops and livestock products</td>\n",
       "      <td>100</td>\n",
       "      <td>India</td>\n",
       "      <td>5419</td>\n",
       "      <td>Yield</td>\n",
       "      <td>1717</td>\n",
       "      <td>Cereals, Total</td>\n",
       "      <td>1962</td>\n",
       "      <td>1962</td>\n",
       "      <td>hg/ha</td>\n",
       "      <td>9297</td>\n",
       "      <td>E</td>\n",
       "      <td>Estimated value</td>\n",
       "    </tr>\n",
       "  </tbody>\n",
       "</table>\n",
       "</div>"
      ],
      "text/plain": [
       "  Domain Code                        Domain  Area Code   Area  Element Code  \\\n",
       "0         QCL  Crops and livestock products        100  India          5312   \n",
       "1         QCL  Crops and livestock products        100  India          5419   \n",
       "2         QCL  Crops and livestock products        100  India          5510   \n",
       "3         QCL  Crops and livestock products        100  India          5312   \n",
       "4         QCL  Crops and livestock products        100  India          5419   \n",
       "\n",
       "          Element  Item Code            Item  Year Code  Year    Unit  \\\n",
       "0  Area harvested       1717  Cereals, Total       1961  1961      ha   \n",
       "1           Yield       1717  Cereals, Total       1961  1961   hg/ha   \n",
       "2      Production       1717  Cereals, Total       1961  1961  tonnes   \n",
       "3  Area harvested       1717  Cereals, Total       1962  1962      ha   \n",
       "4           Yield       1717  Cereals, Total       1962  1962   hg/ha   \n",
       "\n",
       "      Value Flag Flag Description  \n",
       "0  92239016    E  Estimated value  \n",
       "1      9473    E  Estimated value  \n",
       "2  87376496    E  Estimated value  \n",
       "3  93852008    E  Estimated value  \n",
       "4      9297    E  Estimated value  "
      ]
     },
     "execution_count": 2,
     "metadata": {},
     "output_type": "execute_result"
    }
   ],
   "source": [
    "df = pd.read_csv(\"./FAOSTAT_data_en_12-21-2022.csv\")\n",
    "df.head()"
   ]
  },
  {
   "cell_type": "code",
   "execution_count": 3,
   "metadata": {},
   "outputs": [
    {
     "data": {
      "text/plain": [
       "Index(['Domain Code', 'Domain', 'Area Code', 'Area', 'Element Code', 'Element',\n",
       "       'Item Code', 'Item', 'Year Code', 'Year', 'Unit', 'Value', 'Flag',\n",
       "       'Flag Description'],\n",
       "      dtype='object')"
      ]
     },
     "execution_count": 3,
     "metadata": {},
     "output_type": "execute_result"
    }
   ],
   "source": [
    "df.columns"
   ]
  },
  {
   "cell_type": "code",
   "execution_count": 4,
   "metadata": {},
   "outputs": [
    {
     "data": {
      "text/plain": [
       "Domain Code         180\n",
       "Domain              180\n",
       "Area Code           180\n",
       "Area                180\n",
       "Element Code        180\n",
       "Element             180\n",
       "Item Code           180\n",
       "Item                180\n",
       "Year Code           180\n",
       "Year                180\n",
       "Unit                180\n",
       "Value               180\n",
       "Flag                180\n",
       "Flag Description    180\n",
       "dtype: int64"
      ]
     },
     "execution_count": 4,
     "metadata": {},
     "output_type": "execute_result"
    }
   ],
   "source": [
    "df.count()"
   ]
  },
  {
   "cell_type": "code",
   "execution_count": 5,
   "metadata": {},
   "outputs": [
    {
     "data": {
      "text/plain": [
       "Domain Code         object\n",
       "Domain              object\n",
       "Area Code            int64\n",
       "Area                object\n",
       "Element Code         int64\n",
       "Element             object\n",
       "Item Code            int64\n",
       "Item                object\n",
       "Year Code            int64\n",
       "Year                 int64\n",
       "Unit                object\n",
       "Value                int64\n",
       "Flag                object\n",
       "Flag Description    object\n",
       "dtype: object"
      ]
     },
     "execution_count": 5,
     "metadata": {},
     "output_type": "execute_result"
    }
   ],
   "source": [
    "df.dtypes"
   ]
  },
  {
   "cell_type": "code",
   "execution_count": 6,
   "metadata": {},
   "outputs": [
    {
     "data": {
      "text/plain": [
       "Element\n",
       "Area harvested    60\n",
       "Production        60\n",
       "Yield             60\n",
       "dtype: int64"
      ]
     },
     "execution_count": 6,
     "metadata": {},
     "output_type": "execute_result"
    }
   ],
   "source": [
    "df.value_counts(\"Element\")"
   ]
  },
  {
   "cell_type": "code",
   "execution_count": 9,
   "metadata": {},
   "outputs": [
    {
     "data": {
      "text/plain": [
       "Unit\n",
       "ha        60\n",
       "hg/ha     60\n",
       "tonnes    60\n",
       "dtype: int64"
      ]
     },
     "execution_count": 9,
     "metadata": {},
     "output_type": "execute_result"
    }
   ],
   "source": [
    "df.value_counts(\"Unit\")"
   ]
  },
  {
   "cell_type": "code",
   "execution_count": 7,
   "metadata": {},
   "outputs": [
    {
     "data": {
      "text/html": [
       "<div>\n",
       "<style scoped>\n",
       "    .dataframe tbody tr th:only-of-type {\n",
       "        vertical-align: middle;\n",
       "    }\n",
       "\n",
       "    .dataframe tbody tr th {\n",
       "        vertical-align: top;\n",
       "    }\n",
       "\n",
       "    .dataframe thead th {\n",
       "        text-align: right;\n",
       "    }\n",
       "</style>\n",
       "<table border=\"1\" class=\"dataframe\">\n",
       "  <thead>\n",
       "    <tr style=\"text-align: right;\">\n",
       "      <th></th>\n",
       "      <th>Area Code</th>\n",
       "      <th>Element Code</th>\n",
       "      <th>Item Code</th>\n",
       "      <th>Year Code</th>\n",
       "      <th>Year</th>\n",
       "      <th>Value</th>\n",
       "    </tr>\n",
       "  </thead>\n",
       "  <tbody>\n",
       "    <tr>\n",
       "      <th>count</th>\n",
       "      <td>180.0</td>\n",
       "      <td>180.000000</td>\n",
       "      <td>180.0</td>\n",
       "      <td>180.000000</td>\n",
       "      <td>180.000000</td>\n",
       "      <td>1.800000e+02</td>\n",
       "    </tr>\n",
       "    <tr>\n",
       "      <th>mean</th>\n",
       "      <td>100.0</td>\n",
       "      <td>5413.666667</td>\n",
       "      <td>1717.0</td>\n",
       "      <td>1990.500000</td>\n",
       "      <td>1990.500000</td>\n",
       "      <td>9.730965e+07</td>\n",
       "    </tr>\n",
       "    <tr>\n",
       "      <th>std</th>\n",
       "      <td>0.0</td>\n",
       "      <td>81.146808</td>\n",
       "      <td>0.0</td>\n",
       "      <td>17.366409</td>\n",
       "      <td>17.366409</td>\n",
       "      <td>8.932996e+07</td>\n",
       "    </tr>\n",
       "    <tr>\n",
       "      <th>min</th>\n",
       "      <td>100.0</td>\n",
       "      <td>5312.000000</td>\n",
       "      <td>1717.0</td>\n",
       "      <td>1961.000000</td>\n",
       "      <td>1961.000000</td>\n",
       "      <td>8.544000e+03</td>\n",
       "    </tr>\n",
       "    <tr>\n",
       "      <th>25%</th>\n",
       "      <td>100.0</td>\n",
       "      <td>5312.000000</td>\n",
       "      <td>1717.0</td>\n",
       "      <td>1975.750000</td>\n",
       "      <td>1975.750000</td>\n",
       "      <td>2.440650e+04</td>\n",
       "    </tr>\n",
       "    <tr>\n",
       "      <th>50%</th>\n",
       "      <td>100.0</td>\n",
       "      <td>5419.000000</td>\n",
       "      <td>1717.0</td>\n",
       "      <td>1990.500000</td>\n",
       "      <td>1990.500000</td>\n",
       "      <td>9.950935e+07</td>\n",
       "    </tr>\n",
       "    <tr>\n",
       "      <th>75%</th>\n",
       "      <td>100.0</td>\n",
       "      <td>5510.000000</td>\n",
       "      <td>1717.0</td>\n",
       "      <td>2005.250000</td>\n",
       "      <td>2005.250000</td>\n",
       "      <td>1.228364e+08</td>\n",
       "    </tr>\n",
       "    <tr>\n",
       "      <th>max</th>\n",
       "      <td>100.0</td>\n",
       "      <td>5510.000000</td>\n",
       "      <td>1717.0</td>\n",
       "      <td>2020.000000</td>\n",
       "      <td>2020.000000</td>\n",
       "      <td>3.350350e+08</td>\n",
       "    </tr>\n",
       "  </tbody>\n",
       "</table>\n",
       "</div>"
      ],
      "text/plain": [
       "       Area Code  Element Code  Item Code    Year Code         Year  \\\n",
       "count      180.0    180.000000      180.0   180.000000   180.000000   \n",
       "mean       100.0   5413.666667     1717.0  1990.500000  1990.500000   \n",
       "std          0.0     81.146808        0.0    17.366409    17.366409   \n",
       "min        100.0   5312.000000     1717.0  1961.000000  1961.000000   \n",
       "25%        100.0   5312.000000     1717.0  1975.750000  1975.750000   \n",
       "50%        100.0   5419.000000     1717.0  1990.500000  1990.500000   \n",
       "75%        100.0   5510.000000     1717.0  2005.250000  2005.250000   \n",
       "max        100.0   5510.000000     1717.0  2020.000000  2020.000000   \n",
       "\n",
       "              Value  \n",
       "count  1.800000e+02  \n",
       "mean   9.730965e+07  \n",
       "std    8.932996e+07  \n",
       "min    8.544000e+03  \n",
       "25%    2.440650e+04  \n",
       "50%    9.950935e+07  \n",
       "75%    1.228364e+08  \n",
       "max    3.350350e+08  "
      ]
     },
     "execution_count": 7,
     "metadata": {},
     "output_type": "execute_result"
    }
   ],
   "source": [
    "df.describe()"
   ]
  },
  {
   "attachments": {},
   "cell_type": "markdown",
   "metadata": {},
   "source": [
    "> As we can see from the above the description that we are having the data of production from 1961 to 2020.\\\n",
    "> Also we get to know from the data set that we are having the 3 types of Elements i.e \"Area harvested\",\"Production\",\"Yield\".\n"
   ]
  },
  {
   "cell_type": "code",
   "execution_count": 13,
   "metadata": {},
   "outputs": [
    {
     "data": {
      "application/vnd.plotly.v1+json": {
       "config": {
        "plotlyServerURL": "https://plot.ly"
       },
       "data": [
        {
         "hovertemplate": "Element=Area harvested<br>Year=%{x}<br>Value=%{y}<extra></extra>",
         "legendgroup": "Area harvested",
         "marker": {
          "color": "#636efa",
          "symbol": "circle"
         },
         "mode": "markers",
         "name": "Area harvested",
         "orientation": "v",
         "showlegend": true,
         "type": "scatter",
         "x": [
          1961,
          1962,
          1963,
          1964,
          1965,
          1966,
          1967,
          1968,
          1969,
          1970,
          1971,
          1972,
          1973,
          1974,
          1975,
          1976,
          1977,
          1978,
          1979,
          1980,
          1981,
          1982,
          1983,
          1984,
          1985,
          1986,
          1987,
          1988,
          1989,
          1990,
          1991,
          1992,
          1993,
          1994,
          1995,
          1996,
          1997,
          1998,
          1999,
          2000,
          2001,
          2002,
          2003,
          2004,
          2005,
          2006,
          2007,
          2008,
          2009,
          2010,
          2011,
          2012,
          2013,
          2014,
          2015,
          2016,
          2017,
          2018,
          2019,
          2020
         ],
         "xaxis": "x",
         "y": [
          92239016,
          93852008,
          93571016,
          94306008,
          93277016,
          92729816,
          96062008,
          98822912,
          100872596,
          100377004,
          99673104,
          98043804,
          103788908,
          99388716,
          101366908,
          101465120,
          103723620,
          104340004,
          103473312,
          104067000,
          105508300,
          101083696,
          106613208,
          105175600,
          104056596,
          104049212,
          98573604,
          103542716,
          104055700,
          102536512,
          100243408,
          99499504,
          100066500,
          100184200,
          99450800,
          100300000,
          100167200,
          100904200,
          102091700,
          102402400,
          100271100,
          94470900,
          98603100,
          97805700,
          99519200,
          99236800,
          100833500,
          101155500,
          97171600,
          100075800,
          100625700,
          98969000,
          99299950,
          99988240,
          99533000,
          99020000,
          99566890,
          98093520,
          95244530,
          102057166
         ],
         "yaxis": "y"
        },
        {
         "alignmentgroup": "True",
         "hovertemplate": "Element=Area harvested<br>Year=%{x}<extra></extra>",
         "legendgroup": "Area harvested",
         "marker": {
          "color": "#636efa",
          "symbol": "circle"
         },
         "name": "Area harvested",
         "notched": true,
         "offsetgroup": "Area harvested",
         "showlegend": false,
         "type": "box",
         "x": [
          1961,
          1962,
          1963,
          1964,
          1965,
          1966,
          1967,
          1968,
          1969,
          1970,
          1971,
          1972,
          1973,
          1974,
          1975,
          1976,
          1977,
          1978,
          1979,
          1980,
          1981,
          1982,
          1983,
          1984,
          1985,
          1986,
          1987,
          1988,
          1989,
          1990,
          1991,
          1992,
          1993,
          1994,
          1995,
          1996,
          1997,
          1998,
          1999,
          2000,
          2001,
          2002,
          2003,
          2004,
          2005,
          2006,
          2007,
          2008,
          2009,
          2010,
          2011,
          2012,
          2013,
          2014,
          2015,
          2016,
          2017,
          2018,
          2019,
          2020
         ],
         "xaxis": "x3",
         "yaxis": "y3"
        },
        {
         "alignmentgroup": "True",
         "hovertemplate": "Element=Area harvested<br>Value=%{y}<extra></extra>",
         "legendgroup": "Area harvested",
         "marker": {
          "color": "#636efa",
          "symbol": "circle"
         },
         "name": "Area harvested",
         "offsetgroup": "Area harvested",
         "scalegroup": "y",
         "showlegend": false,
         "type": "violin",
         "xaxis": "x2",
         "y": [
          92239016,
          93852008,
          93571016,
          94306008,
          93277016,
          92729816,
          96062008,
          98822912,
          100872596,
          100377004,
          99673104,
          98043804,
          103788908,
          99388716,
          101366908,
          101465120,
          103723620,
          104340004,
          103473312,
          104067000,
          105508300,
          101083696,
          106613208,
          105175600,
          104056596,
          104049212,
          98573604,
          103542716,
          104055700,
          102536512,
          100243408,
          99499504,
          100066500,
          100184200,
          99450800,
          100300000,
          100167200,
          100904200,
          102091700,
          102402400,
          100271100,
          94470900,
          98603100,
          97805700,
          99519200,
          99236800,
          100833500,
          101155500,
          97171600,
          100075800,
          100625700,
          98969000,
          99299950,
          99988240,
          99533000,
          99020000,
          99566890,
          98093520,
          95244530,
          102057166
         ],
         "yaxis": "y2"
        },
        {
         "hovertemplate": "<b>OLS trendline</b><br>Value = 24337.4 * Year + 5.15145e+07<br>R<sup>2</sup>=0.016715<br><br>Element=Area harvested<br>Year=%{x}<br>Value=%{y} <b>(trend)</b><extra></extra>",
         "legendgroup": "Area harvested",
         "marker": {
          "color": "#636efa",
          "symbol": "circle"
         },
         "mode": "lines",
         "name": "Area harvested",
         "showlegend": false,
         "type": "scatter",
         "x": [
          1961,
          1962,
          1963,
          1964,
          1965,
          1966,
          1967,
          1968,
          1969,
          1970,
          1971,
          1972,
          1973,
          1974,
          1975,
          1976,
          1977,
          1978,
          1979,
          1980,
          1981,
          1982,
          1983,
          1984,
          1985,
          1986,
          1987,
          1988,
          1989,
          1990,
          1991,
          1992,
          1993,
          1994,
          1995,
          1996,
          1997,
          1998,
          1999,
          2000,
          2001,
          2002,
          2003,
          2004,
          2005,
          2006,
          2007,
          2008,
          2009,
          2010,
          2011,
          2012,
          2013,
          2014,
          2015,
          2016,
          2017,
          2018,
          2019,
          2020
         ],
         "xaxis": "x",
         "y": [
          99240149.25355138,
          99264486.65060613,
          99288824.04766086,
          99313161.44471559,
          99337498.84177032,
          99361836.23882505,
          99386173.6358798,
          99410511.03293453,
          99434848.42998928,
          99459185.82704401,
          99483523.22409874,
          99507860.62115347,
          99532198.0182082,
          99556535.41526294,
          99580872.81231768,
          99605210.20937242,
          99629547.60642716,
          99653885.0034819,
          99678222.40053663,
          99702559.79759136,
          99726897.19464609,
          99751234.59170082,
          99775571.98875557,
          99799909.3858103,
          99824246.78286505,
          99848584.17991978,
          99872921.57697451,
          99897258.97402924,
          99921596.37108397,
          99945933.76813872,
          99970271.16519345,
          99994608.5622482,
          100018945.95930293,
          100043283.35635766,
          100067620.7534124,
          100091958.15046713,
          100116295.54752186,
          100140632.9445766,
          100164970.34163134,
          100189307.73868608,
          100213645.13574082,
          100237982.53279555,
          100262319.92985028,
          100286657.32690501,
          100310994.72395974,
          100335332.12101449,
          100359669.51806924,
          100384006.91512397,
          100408344.3121787,
          100432681.70923343,
          100457019.10628816,
          100481356.5033429,
          100505693.90039764,
          100530031.29745238,
          100554368.69450712,
          100578706.09156185,
          100603043.48861659,
          100627380.88567132,
          100651718.28272605,
          100676055.67978078
         ],
         "yaxis": "y"
        },
        {
         "hovertemplate": "Element=Yield<br>Year=%{x}<br>Value=%{y}<extra></extra>",
         "legendgroup": "Yield",
         "marker": {
          "color": "#EF553B",
          "symbol": "circle"
         },
         "mode": "markers",
         "name": "Yield",
         "orientation": "v",
         "showlegend": true,
         "type": "scatter",
         "x": [
          1961,
          1962,
          1963,
          1964,
          1965,
          1966,
          1967,
          1968,
          1969,
          1970,
          1971,
          1972,
          1973,
          1974,
          1975,
          1976,
          1977,
          1978,
          1979,
          1980,
          1981,
          1982,
          1983,
          1984,
          1985,
          1986,
          1987,
          1988,
          1989,
          1990,
          1991,
          1992,
          1993,
          1994,
          1995,
          1996,
          1997,
          1998,
          1999,
          2000,
          2001,
          2002,
          2003,
          2004,
          2005,
          2006,
          2007,
          2008,
          2009,
          2010,
          2011,
          2012,
          2013,
          2014,
          2015,
          2016,
          2017,
          2018,
          2019,
          2020
         ],
         "xaxis": "x",
         "y": [
          9473,
          9297,
          9658,
          9936,
          8544,
          8642,
          9937,
          10366,
          10537,
          11348,
          11361,
          11078,
          11528,
          10745,
          12608,
          11987,
          13311,
          13702,
          12223,
          13500,
          13988,
          13464,
          15644,
          15638,
          15922,
          15854,
          15837,
          17758,
          19164,
          18912,
          19263,
          20248,
          20849,
          21155,
          21117,
          21810,
          22286,
          22484,
          23137,
          22942,
          24231,
          21873,
          23994,
          23500,
          24116,
          24465,
          25833,
          26379,
          25808,
          26764,
          28607,
          29635,
          29699,
          29604,
          28567,
          30080,
          31213,
          32781,
          34049,
          32828
         ],
         "yaxis": "y"
        },
        {
         "alignmentgroup": "True",
         "hovertemplate": "Element=Yield<br>Year=%{x}<extra></extra>",
         "legendgroup": "Yield",
         "marker": {
          "color": "#EF553B",
          "symbol": "circle"
         },
         "name": "Yield",
         "notched": true,
         "offsetgroup": "Yield",
         "showlegend": false,
         "type": "box",
         "x": [
          1961,
          1962,
          1963,
          1964,
          1965,
          1966,
          1967,
          1968,
          1969,
          1970,
          1971,
          1972,
          1973,
          1974,
          1975,
          1976,
          1977,
          1978,
          1979,
          1980,
          1981,
          1982,
          1983,
          1984,
          1985,
          1986,
          1987,
          1988,
          1989,
          1990,
          1991,
          1992,
          1993,
          1994,
          1995,
          1996,
          1997,
          1998,
          1999,
          2000,
          2001,
          2002,
          2003,
          2004,
          2005,
          2006,
          2007,
          2008,
          2009,
          2010,
          2011,
          2012,
          2013,
          2014,
          2015,
          2016,
          2017,
          2018,
          2019,
          2020
         ],
         "xaxis": "x3",
         "yaxis": "y3"
        },
        {
         "alignmentgroup": "True",
         "hovertemplate": "Element=Yield<br>Value=%{y}<extra></extra>",
         "legendgroup": "Yield",
         "marker": {
          "color": "#EF553B",
          "symbol": "circle"
         },
         "name": "Yield",
         "offsetgroup": "Yield",
         "scalegroup": "y",
         "showlegend": false,
         "type": "violin",
         "xaxis": "x2",
         "y": [
          9473,
          9297,
          9658,
          9936,
          8544,
          8642,
          9937,
          10366,
          10537,
          11348,
          11361,
          11078,
          11528,
          10745,
          12608,
          11987,
          13311,
          13702,
          12223,
          13500,
          13988,
          13464,
          15644,
          15638,
          15922,
          15854,
          15837,
          17758,
          19164,
          18912,
          19263,
          20248,
          20849,
          21155,
          21117,
          21810,
          22286,
          22484,
          23137,
          22942,
          24231,
          21873,
          23994,
          23500,
          24116,
          24465,
          25833,
          26379,
          25808,
          26764,
          28607,
          29635,
          29699,
          29604,
          28567,
          30080,
          31213,
          32781,
          34049,
          32828
         ],
         "yaxis": "y2"
        },
        {
         "hovertemplate": "<b>OLS trendline</b><br>Value = 420.687 * Year + -818189<br>R<sup>2</sup>=0.976198<br><br>Element=Yield<br>Year=%{x}<br>Value=%{y} <b>(trend)</b><extra></extra>",
         "legendgroup": "Yield",
         "marker": {
          "color": "#EF553B",
          "symbol": "circle"
         },
         "mode": "lines",
         "name": "Yield",
         "showlegend": false,
         "type": "scatter",
         "x": [
          1961,
          1962,
          1963,
          1964,
          1965,
          1966,
          1967,
          1968,
          1969,
          1970,
          1971,
          1972,
          1973,
          1974,
          1975,
          1976,
          1977,
          1978,
          1979,
          1980,
          1981,
          1982,
          1983,
          1984,
          1985,
          1986,
          1987,
          1988,
          1989,
          1990,
          1991,
          1992,
          1993,
          1994,
          1995,
          1996,
          1997,
          1998,
          1999,
          2000,
          2001,
          2002,
          2003,
          2004,
          2005,
          2006,
          2007,
          2008,
          2009,
          2010,
          2011,
          2012,
          2013,
          2014,
          2015,
          2016,
          2017,
          2018,
          2019,
          2020
         ],
         "xaxis": "x",
         "y": [
          6777.720218578819,
          7198.4071038247785,
          7619.093989070738,
          8039.780874316581,
          8460.46775956254,
          8881.154644808383,
          9301.841530054342,
          9722.528415300185,
          10143.215300546144,
          10563.902185791987,
          10984.589071037946,
          11405.27595628379,
          11825.962841529748,
          12246.649726775591,
          12667.33661202155,
          13088.023497267393,
          13508.710382513353,
          13929.397267759312,
          14350.084153005155,
          14770.771038251114,
          15191.457923496957,
          15612.144808742916,
          16032.831693988759,
          16453.51857923472,
          16874.20546448056,
          17294.89234972652,
          17715.579234972363,
          18136.266120218323,
          18556.953005464165,
          18977.639890710125,
          19398.326775955968,
          19819.013661201927,
          20239.700546447886,
          20660.38743169373,
          21081.07431693969,
          21501.76120218553,
          21922.44808743149,
          22343.134972677333,
          22763.821857923293,
          23184.508743169135,
          23605.195628415095,
          24025.882513660938,
          24446.569398906897,
          24867.25628415274,
          25287.9431693987,
          25708.63005464466,
          26129.3169398905,
          26550.00382513646,
          26970.690710382303,
          27391.377595628262,
          27812.064480874105,
          28232.751366120065,
          28653.438251365907,
          29074.125136611867,
          29494.81202185771,
          29915.49890710367,
          30336.18579234951,
          30756.87267759547,
          31177.559562841314,
          31598.246448087273
         ],
         "yaxis": "y"
        },
        {
         "hovertemplate": "Element=Production<br>Year=%{x}<br>Value=%{y}<extra></extra>",
         "legendgroup": "Production",
         "marker": {
          "color": "#00cc96",
          "symbol": "circle"
         },
         "mode": "markers",
         "name": "Production",
         "orientation": "v",
         "showlegend": true,
         "type": "scatter",
         "x": [
          1961,
          1962,
          1963,
          1964,
          1965,
          1966,
          1967,
          1968,
          1969,
          1970,
          1971,
          1972,
          1973,
          1974,
          1975,
          1976,
          1977,
          1978,
          1979,
          1980,
          1981,
          1982,
          1983,
          1984,
          1985,
          1986,
          1987,
          1988,
          1989,
          1990,
          1991,
          1992,
          1993,
          1994,
          1995,
          1996,
          1997,
          1998,
          1999,
          2000,
          2001,
          2002,
          2003,
          2004,
          2005,
          2006,
          2007,
          2008,
          2009,
          2010,
          2011,
          2012,
          2013,
          2014,
          2015,
          2016,
          2017,
          2018,
          2019,
          2020
         ],
         "xaxis": "x",
         "y": [
          87376496,
          87257552,
          90373008,
          93706000,
          79699504,
          80137608,
          95453504,
          102443708,
          106291244,
          113909504,
          113238296,
          108615456,
          119648216,
          106793000,
          127807800,
          121625108,
          138062904,
          142964696,
          126470304,
          140490600,
          147583816,
          136101404,
          166781704,
          164477600,
          165682196,
          164955216,
          156114500,
          183867008,
          199413216,
          193919312,
          193101196,
          201468404,
          208626900,
          211941400,
          210012500,
          218750900,
          223232400,
          226877000,
          236205608,
          234931192,
          242963796,
          206636708,
          236592700,
          229845504,
          239997492,
          242785588,
          260485904,
          266835300,
          250783392,
          267838308,
          287860000,
          293290000,
          294909510,
          296010000,
          284333000,
          297850000,
          310782330,
          321556400,
          324300640,
          335035000
         ],
         "yaxis": "y"
        },
        {
         "alignmentgroup": "True",
         "hovertemplate": "Element=Production<br>Year=%{x}<extra></extra>",
         "legendgroup": "Production",
         "marker": {
          "color": "#00cc96",
          "symbol": "circle"
         },
         "name": "Production",
         "notched": true,
         "offsetgroup": "Production",
         "showlegend": false,
         "type": "box",
         "x": [
          1961,
          1962,
          1963,
          1964,
          1965,
          1966,
          1967,
          1968,
          1969,
          1970,
          1971,
          1972,
          1973,
          1974,
          1975,
          1976,
          1977,
          1978,
          1979,
          1980,
          1981,
          1982,
          1983,
          1984,
          1985,
          1986,
          1987,
          1988,
          1989,
          1990,
          1991,
          1992,
          1993,
          1994,
          1995,
          1996,
          1997,
          1998,
          1999,
          2000,
          2001,
          2002,
          2003,
          2004,
          2005,
          2006,
          2007,
          2008,
          2009,
          2010,
          2011,
          2012,
          2013,
          2014,
          2015,
          2016,
          2017,
          2018,
          2019,
          2020
         ],
         "xaxis": "x3",
         "yaxis": "y3"
        },
        {
         "alignmentgroup": "True",
         "hovertemplate": "Element=Production<br>Value=%{y}<extra></extra>",
         "legendgroup": "Production",
         "marker": {
          "color": "#00cc96",
          "symbol": "circle"
         },
         "name": "Production",
         "offsetgroup": "Production",
         "scalegroup": "y",
         "showlegend": false,
         "type": "violin",
         "xaxis": "x2",
         "y": [
          87376496,
          87257552,
          90373008,
          93706000,
          79699504,
          80137608,
          95453504,
          102443708,
          106291244,
          113909504,
          113238296,
          108615456,
          119648216,
          106793000,
          127807800,
          121625108,
          138062904,
          142964696,
          126470304,
          140490600,
          147583816,
          136101404,
          166781704,
          164477600,
          165682196,
          164955216,
          156114500,
          183867008,
          199413216,
          193919312,
          193101196,
          201468404,
          208626900,
          211941400,
          210012500,
          218750900,
          223232400,
          226877000,
          236205608,
          234931192,
          242963796,
          206636708,
          236592700,
          229845504,
          239997492,
          242785588,
          260485904,
          266835300,
          250783392,
          267838308,
          287860000,
          293290000,
          294909510,
          296010000,
          284333000,
          297850000,
          310782330,
          321556400,
          324300640,
          335035000
         ],
         "yaxis": "y2"
        },
        {
         "hovertemplate": "<b>OLS trendline</b><br>Value = 4.18436e+06 * Year + -8.13703e+09<br>R<sup>2</sup>=0.978546<br><br>Element=Production<br>Year=%{x}<br>Value=%{y} <b>(trend)</b><extra></extra>",
         "legendgroup": "Production",
         "marker": {
          "color": "#00cc96",
          "symbol": "circle"
         },
         "mode": "lines",
         "name": "Production",
         "showlegend": false,
         "type": "scatter",
         "x": [
          1961,
          1962,
          1963,
          1964,
          1965,
          1966,
          1967,
          1968,
          1969,
          1970,
          1971,
          1972,
          1973,
          1974,
          1975,
          1976,
          1977,
          1978,
          1979,
          1980,
          1981,
          1982,
          1983,
          1984,
          1985,
          1986,
          1987,
          1988,
          1989,
          1990,
          1991,
          1992,
          1993,
          1994,
          1995,
          1996,
          1997,
          1998,
          1999,
          2000,
          2001,
          2002,
          2003,
          2004,
          2005,
          2006,
          2007,
          2008,
          2009,
          2010,
          2011,
          2012,
          2013,
          2014,
          2015,
          2016,
          2017,
          2018,
          2019,
          2020
         ],
         "xaxis": "x",
         "y": [
          68512908.66229248,
          72697273.08729935,
          76881637.51230621,
          81066001.93731308,
          85250366.36231995,
          89434730.78732681,
          93619095.21233368,
          97803459.6373415,
          101987824.06234837,
          106172188.48735523,
          110356552.9123621,
          114540917.33736897,
          118725281.76237583,
          122909646.1873827,
          127094010.61238956,
          131278375.03739643,
          135462739.46240425,
          139647103.88741112,
          143831468.31241798,
          148015832.73742485,
          152200197.16243172,
          156384561.58743858,
          160568926.01244545,
          164753290.43745232,
          168937654.86246014,
          173122019.287467,
          177306383.71247387,
          181490748.13748074,
          185675112.5624876,
          189859476.98749447,
          194043841.41250134,
          198228205.8375082,
          202412570.26251602,
          206596934.6875229,
          210781299.11252975,
          214965663.53753662,
          219150027.9625435,
          223334392.38755035,
          227518756.81255722,
          231703121.2375641,
          235887485.66257095,
          240071850.08757877,
          244256214.51258564,
          248440578.9375925,
          252624943.36259937,
          256809307.78760624,
          260993672.2126131,
          265178036.63761997,
          269362401.06262684,
          273546765.48763466,
          277731129.9126415,
          281915494.3376484,
          286099858.76265526,
          290284223.1876621,
          294468587.612669,
          298652952.03767586,
          302837316.4626827,
          307021680.8876896,
          311206045.3126974,
          315390409.7377043
         ],
         "yaxis": "y"
        }
       ],
       "layout": {
        "legend": {
         "title": {
          "text": "Element"
         },
         "tracegroupgap": 0
        },
        "margin": {
         "t": 60
        },
        "template": {
         "data": {
          "bar": [
           {
            "error_x": {
             "color": "#2a3f5f"
            },
            "error_y": {
             "color": "#2a3f5f"
            },
            "marker": {
             "line": {
              "color": "#E5ECF6",
              "width": 0.5
             },
             "pattern": {
              "fillmode": "overlay",
              "size": 10,
              "solidity": 0.2
             }
            },
            "type": "bar"
           }
          ],
          "barpolar": [
           {
            "marker": {
             "line": {
              "color": "#E5ECF6",
              "width": 0.5
             },
             "pattern": {
              "fillmode": "overlay",
              "size": 10,
              "solidity": 0.2
             }
            },
            "type": "barpolar"
           }
          ],
          "carpet": [
           {
            "aaxis": {
             "endlinecolor": "#2a3f5f",
             "gridcolor": "white",
             "linecolor": "white",
             "minorgridcolor": "white",
             "startlinecolor": "#2a3f5f"
            },
            "baxis": {
             "endlinecolor": "#2a3f5f",
             "gridcolor": "white",
             "linecolor": "white",
             "minorgridcolor": "white",
             "startlinecolor": "#2a3f5f"
            },
            "type": "carpet"
           }
          ],
          "choropleth": [
           {
            "colorbar": {
             "outlinewidth": 0,
             "ticks": ""
            },
            "type": "choropleth"
           }
          ],
          "contour": [
           {
            "colorbar": {
             "outlinewidth": 0,
             "ticks": ""
            },
            "colorscale": [
             [
              0,
              "#0d0887"
             ],
             [
              0.1111111111111111,
              "#46039f"
             ],
             [
              0.2222222222222222,
              "#7201a8"
             ],
             [
              0.3333333333333333,
              "#9c179e"
             ],
             [
              0.4444444444444444,
              "#bd3786"
             ],
             [
              0.5555555555555556,
              "#d8576b"
             ],
             [
              0.6666666666666666,
              "#ed7953"
             ],
             [
              0.7777777777777778,
              "#fb9f3a"
             ],
             [
              0.8888888888888888,
              "#fdca26"
             ],
             [
              1,
              "#f0f921"
             ]
            ],
            "type": "contour"
           }
          ],
          "contourcarpet": [
           {
            "colorbar": {
             "outlinewidth": 0,
             "ticks": ""
            },
            "type": "contourcarpet"
           }
          ],
          "heatmap": [
           {
            "colorbar": {
             "outlinewidth": 0,
             "ticks": ""
            },
            "colorscale": [
             [
              0,
              "#0d0887"
             ],
             [
              0.1111111111111111,
              "#46039f"
             ],
             [
              0.2222222222222222,
              "#7201a8"
             ],
             [
              0.3333333333333333,
              "#9c179e"
             ],
             [
              0.4444444444444444,
              "#bd3786"
             ],
             [
              0.5555555555555556,
              "#d8576b"
             ],
             [
              0.6666666666666666,
              "#ed7953"
             ],
             [
              0.7777777777777778,
              "#fb9f3a"
             ],
             [
              0.8888888888888888,
              "#fdca26"
             ],
             [
              1,
              "#f0f921"
             ]
            ],
            "type": "heatmap"
           }
          ],
          "heatmapgl": [
           {
            "colorbar": {
             "outlinewidth": 0,
             "ticks": ""
            },
            "colorscale": [
             [
              0,
              "#0d0887"
             ],
             [
              0.1111111111111111,
              "#46039f"
             ],
             [
              0.2222222222222222,
              "#7201a8"
             ],
             [
              0.3333333333333333,
              "#9c179e"
             ],
             [
              0.4444444444444444,
              "#bd3786"
             ],
             [
              0.5555555555555556,
              "#d8576b"
             ],
             [
              0.6666666666666666,
              "#ed7953"
             ],
             [
              0.7777777777777778,
              "#fb9f3a"
             ],
             [
              0.8888888888888888,
              "#fdca26"
             ],
             [
              1,
              "#f0f921"
             ]
            ],
            "type": "heatmapgl"
           }
          ],
          "histogram": [
           {
            "marker": {
             "pattern": {
              "fillmode": "overlay",
              "size": 10,
              "solidity": 0.2
             }
            },
            "type": "histogram"
           }
          ],
          "histogram2d": [
           {
            "colorbar": {
             "outlinewidth": 0,
             "ticks": ""
            },
            "colorscale": [
             [
              0,
              "#0d0887"
             ],
             [
              0.1111111111111111,
              "#46039f"
             ],
             [
              0.2222222222222222,
              "#7201a8"
             ],
             [
              0.3333333333333333,
              "#9c179e"
             ],
             [
              0.4444444444444444,
              "#bd3786"
             ],
             [
              0.5555555555555556,
              "#d8576b"
             ],
             [
              0.6666666666666666,
              "#ed7953"
             ],
             [
              0.7777777777777778,
              "#fb9f3a"
             ],
             [
              0.8888888888888888,
              "#fdca26"
             ],
             [
              1,
              "#f0f921"
             ]
            ],
            "type": "histogram2d"
           }
          ],
          "histogram2dcontour": [
           {
            "colorbar": {
             "outlinewidth": 0,
             "ticks": ""
            },
            "colorscale": [
             [
              0,
              "#0d0887"
             ],
             [
              0.1111111111111111,
              "#46039f"
             ],
             [
              0.2222222222222222,
              "#7201a8"
             ],
             [
              0.3333333333333333,
              "#9c179e"
             ],
             [
              0.4444444444444444,
              "#bd3786"
             ],
             [
              0.5555555555555556,
              "#d8576b"
             ],
             [
              0.6666666666666666,
              "#ed7953"
             ],
             [
              0.7777777777777778,
              "#fb9f3a"
             ],
             [
              0.8888888888888888,
              "#fdca26"
             ],
             [
              1,
              "#f0f921"
             ]
            ],
            "type": "histogram2dcontour"
           }
          ],
          "mesh3d": [
           {
            "colorbar": {
             "outlinewidth": 0,
             "ticks": ""
            },
            "type": "mesh3d"
           }
          ],
          "parcoords": [
           {
            "line": {
             "colorbar": {
              "outlinewidth": 0,
              "ticks": ""
             }
            },
            "type": "parcoords"
           }
          ],
          "pie": [
           {
            "automargin": true,
            "type": "pie"
           }
          ],
          "scatter": [
           {
            "fillpattern": {
             "fillmode": "overlay",
             "size": 10,
             "solidity": 0.2
            },
            "type": "scatter"
           }
          ],
          "scatter3d": [
           {
            "line": {
             "colorbar": {
              "outlinewidth": 0,
              "ticks": ""
             }
            },
            "marker": {
             "colorbar": {
              "outlinewidth": 0,
              "ticks": ""
             }
            },
            "type": "scatter3d"
           }
          ],
          "scattercarpet": [
           {
            "marker": {
             "colorbar": {
              "outlinewidth": 0,
              "ticks": ""
             }
            },
            "type": "scattercarpet"
           }
          ],
          "scattergeo": [
           {
            "marker": {
             "colorbar": {
              "outlinewidth": 0,
              "ticks": ""
             }
            },
            "type": "scattergeo"
           }
          ],
          "scattergl": [
           {
            "marker": {
             "colorbar": {
              "outlinewidth": 0,
              "ticks": ""
             }
            },
            "type": "scattergl"
           }
          ],
          "scattermapbox": [
           {
            "marker": {
             "colorbar": {
              "outlinewidth": 0,
              "ticks": ""
             }
            },
            "type": "scattermapbox"
           }
          ],
          "scatterpolar": [
           {
            "marker": {
             "colorbar": {
              "outlinewidth": 0,
              "ticks": ""
             }
            },
            "type": "scatterpolar"
           }
          ],
          "scatterpolargl": [
           {
            "marker": {
             "colorbar": {
              "outlinewidth": 0,
              "ticks": ""
             }
            },
            "type": "scatterpolargl"
           }
          ],
          "scatterternary": [
           {
            "marker": {
             "colorbar": {
              "outlinewidth": 0,
              "ticks": ""
             }
            },
            "type": "scatterternary"
           }
          ],
          "surface": [
           {
            "colorbar": {
             "outlinewidth": 0,
             "ticks": ""
            },
            "colorscale": [
             [
              0,
              "#0d0887"
             ],
             [
              0.1111111111111111,
              "#46039f"
             ],
             [
              0.2222222222222222,
              "#7201a8"
             ],
             [
              0.3333333333333333,
              "#9c179e"
             ],
             [
              0.4444444444444444,
              "#bd3786"
             ],
             [
              0.5555555555555556,
              "#d8576b"
             ],
             [
              0.6666666666666666,
              "#ed7953"
             ],
             [
              0.7777777777777778,
              "#fb9f3a"
             ],
             [
              0.8888888888888888,
              "#fdca26"
             ],
             [
              1,
              "#f0f921"
             ]
            ],
            "type": "surface"
           }
          ],
          "table": [
           {
            "cells": {
             "fill": {
              "color": "#EBF0F8"
             },
             "line": {
              "color": "white"
             }
            },
            "header": {
             "fill": {
              "color": "#C8D4E3"
             },
             "line": {
              "color": "white"
             }
            },
            "type": "table"
           }
          ]
         },
         "layout": {
          "annotationdefaults": {
           "arrowcolor": "#2a3f5f",
           "arrowhead": 0,
           "arrowwidth": 1
          },
          "autotypenumbers": "strict",
          "coloraxis": {
           "colorbar": {
            "outlinewidth": 0,
            "ticks": ""
           }
          },
          "colorscale": {
           "diverging": [
            [
             0,
             "#8e0152"
            ],
            [
             0.1,
             "#c51b7d"
            ],
            [
             0.2,
             "#de77ae"
            ],
            [
             0.3,
             "#f1b6da"
            ],
            [
             0.4,
             "#fde0ef"
            ],
            [
             0.5,
             "#f7f7f7"
            ],
            [
             0.6,
             "#e6f5d0"
            ],
            [
             0.7,
             "#b8e186"
            ],
            [
             0.8,
             "#7fbc41"
            ],
            [
             0.9,
             "#4d9221"
            ],
            [
             1,
             "#276419"
            ]
           ],
           "sequential": [
            [
             0,
             "#0d0887"
            ],
            [
             0.1111111111111111,
             "#46039f"
            ],
            [
             0.2222222222222222,
             "#7201a8"
            ],
            [
             0.3333333333333333,
             "#9c179e"
            ],
            [
             0.4444444444444444,
             "#bd3786"
            ],
            [
             0.5555555555555556,
             "#d8576b"
            ],
            [
             0.6666666666666666,
             "#ed7953"
            ],
            [
             0.7777777777777778,
             "#fb9f3a"
            ],
            [
             0.8888888888888888,
             "#fdca26"
            ],
            [
             1,
             "#f0f921"
            ]
           ],
           "sequentialminus": [
            [
             0,
             "#0d0887"
            ],
            [
             0.1111111111111111,
             "#46039f"
            ],
            [
             0.2222222222222222,
             "#7201a8"
            ],
            [
             0.3333333333333333,
             "#9c179e"
            ],
            [
             0.4444444444444444,
             "#bd3786"
            ],
            [
             0.5555555555555556,
             "#d8576b"
            ],
            [
             0.6666666666666666,
             "#ed7953"
            ],
            [
             0.7777777777777778,
             "#fb9f3a"
            ],
            [
             0.8888888888888888,
             "#fdca26"
            ],
            [
             1,
             "#f0f921"
            ]
           ]
          },
          "colorway": [
           "#636efa",
           "#EF553B",
           "#00cc96",
           "#ab63fa",
           "#FFA15A",
           "#19d3f3",
           "#FF6692",
           "#B6E880",
           "#FF97FF",
           "#FECB52"
          ],
          "font": {
           "color": "#2a3f5f"
          },
          "geo": {
           "bgcolor": "white",
           "lakecolor": "white",
           "landcolor": "#E5ECF6",
           "showlakes": true,
           "showland": true,
           "subunitcolor": "white"
          },
          "hoverlabel": {
           "align": "left"
          },
          "hovermode": "closest",
          "mapbox": {
           "style": "light"
          },
          "paper_bgcolor": "white",
          "plot_bgcolor": "#E5ECF6",
          "polar": {
           "angularaxis": {
            "gridcolor": "white",
            "linecolor": "white",
            "ticks": ""
           },
           "bgcolor": "#E5ECF6",
           "radialaxis": {
            "gridcolor": "white",
            "linecolor": "white",
            "ticks": ""
           }
          },
          "scene": {
           "xaxis": {
            "backgroundcolor": "#E5ECF6",
            "gridcolor": "white",
            "gridwidth": 2,
            "linecolor": "white",
            "showbackground": true,
            "ticks": "",
            "zerolinecolor": "white"
           },
           "yaxis": {
            "backgroundcolor": "#E5ECF6",
            "gridcolor": "white",
            "gridwidth": 2,
            "linecolor": "white",
            "showbackground": true,
            "ticks": "",
            "zerolinecolor": "white"
           },
           "zaxis": {
            "backgroundcolor": "#E5ECF6",
            "gridcolor": "white",
            "gridwidth": 2,
            "linecolor": "white",
            "showbackground": true,
            "ticks": "",
            "zerolinecolor": "white"
           }
          },
          "shapedefaults": {
           "line": {
            "color": "#2a3f5f"
           }
          },
          "ternary": {
           "aaxis": {
            "gridcolor": "white",
            "linecolor": "white",
            "ticks": ""
           },
           "baxis": {
            "gridcolor": "white",
            "linecolor": "white",
            "ticks": ""
           },
           "bgcolor": "#E5ECF6",
           "caxis": {
            "gridcolor": "white",
            "linecolor": "white",
            "ticks": ""
           }
          },
          "title": {
           "x": 0.05
          },
          "xaxis": {
           "automargin": true,
           "gridcolor": "white",
           "linecolor": "white",
           "ticks": "",
           "title": {
            "standoff": 15
           },
           "zerolinecolor": "white",
           "zerolinewidth": 2
          },
          "yaxis": {
           "automargin": true,
           "gridcolor": "white",
           "linecolor": "white",
           "ticks": "",
           "title": {
            "standoff": 15
           },
           "zerolinecolor": "white",
           "zerolinewidth": 2
          }
         }
        },
        "xaxis": {
         "anchor": "y",
         "domain": [
          0,
          0.7363
         ],
         "title": {
          "text": "Year"
         }
        },
        "xaxis2": {
         "anchor": "y2",
         "domain": [
          0.7413,
          1
         ],
         "matches": "x2",
         "showgrid": false,
         "showline": false,
         "showticklabels": false,
         "ticks": ""
        },
        "xaxis3": {
         "anchor": "y3",
         "domain": [
          0,
          0.7363
         ],
         "matches": "x",
         "showgrid": true,
         "showticklabels": false
        },
        "xaxis4": {
         "anchor": "y4",
         "domain": [
          0.7413,
          1
         ],
         "matches": "x2",
         "showgrid": false,
         "showline": false,
         "showticklabels": false,
         "ticks": ""
        },
        "yaxis": {
         "anchor": "x",
         "domain": [
          0,
          0.7326
         ],
         "title": {
          "text": "Value"
         }
        },
        "yaxis2": {
         "anchor": "x2",
         "domain": [
          0,
          0.7326
         ],
         "matches": "y",
         "showgrid": true,
         "showticklabels": false
        },
        "yaxis3": {
         "anchor": "x3",
         "domain": [
          0.7426,
          1
         ],
         "matches": "y3",
         "showgrid": false,
         "showline": false,
         "showticklabels": false,
         "ticks": ""
        },
        "yaxis4": {
         "anchor": "x4",
         "domain": [
          0.7426,
          1
         ],
         "matches": "y3",
         "showgrid": true,
         "showline": false,
         "showticklabels": false,
         "ticks": ""
        }
       }
      }
     },
     "metadata": {},
     "output_type": "display_data"
    }
   ],
   "source": [
    "fig = px.scatter(df, x=\"Year\", y =\"Value\", color =\"Element\", marginal_y = \"violin\",\n",
    "           marginal_x =\"box\", trendline= \"ols\")# template= \"Crops and livestock products\");\n",
    "fig.show()\n"
   ]
  },
  {
   "attachments": {},
   "cell_type": "markdown",
   "metadata": {},
   "source": [
    "> From the above graph that the production of the Yield is increasing day by day since the year 1961. "
   ]
  }
 ],
 "metadata": {
  "kernelspec": {
   "display_name": "base",
   "language": "python",
   "name": "python3"
  },
  "language_info": {
   "codemirror_mode": {
    "name": "ipython",
    "version": 3
   },
   "file_extension": ".py",
   "mimetype": "text/x-python",
   "name": "python",
   "nbconvert_exporter": "python",
   "pygments_lexer": "ipython3",
   "version": "3.9.15"
  },
  "orig_nbformat": 4,
  "vscode": {
   "interpreter": {
    "hash": "ad2bdc8ecc057115af97d19610ffacc2b4e99fae6737bb82f5d7fb13d2f2c186"
   }
  }
 },
 "nbformat": 4,
 "nbformat_minor": 2
}
